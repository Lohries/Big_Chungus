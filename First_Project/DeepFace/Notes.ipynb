{
 "cells": [
  {
   "cell_type": "markdown",
   "metadata": {},
   "source": [
    "**Brain First Project**"
   ]
  },
  {
   "cell_type": "markdown",
   "metadata": {},
   "source": [
    "**1°-Basics**"
   ]
  },
  {
   "cell_type": "code",
   "execution_count": 1,
   "metadata": {},
   "outputs": [
    {
     "name": "stdout",
     "output_type": "stream",
     "text": [
      "24-02-29 23:36:12 - Directory /Users/lohries/.deepface created\n",
      "24-02-29 23:36:12 - Directory /Users/lohries/.deepface/weights created\n"
     ]
    }
   ],
   "source": [
    "from deepface import  DeepFace"
   ]
  },
  {
   "cell_type": "code",
   "execution_count": 8,
   "metadata": {},
   "outputs": [],
   "source": [
    "img1 = '/Users/lohries/Desktop/Brain/First_Project/img/Celebrity1.jpeg'\n",
    "img2 = '/Users/lohries/Desktop/Brain/First_Project/img/Celebrity2.jpeg'"
   ]
  },
  {
   "cell_type": "code",
   "execution_count": 9,
   "metadata": {},
   "outputs": [
    {
     "name": "stdout",
     "output_type": "stream",
     "text": [
      "{'verified': False, 'distance': 0.8216463258362606, 'threshold': 0.68, 'model': 'VGG-Face', 'detector_backend': 'opencv', 'similarity_metric': 'cosine', 'facial_areas': {'img1': {'x': 181, 'y': 143, 'w': 406, 'h': 406, 'left_eye': (129, 166), 'right_eye': (276, 158)}, 'img2': {'x': 145, 'y': 126, 'w': 367, 'h': 367, 'left_eye': (137, 147), 'right_eye': (218, 289)}}, 'time': 0.96}\n"
     ]
    }
   ],
   "source": [
    "result = DeepFace.verify(img1, img2)\n",
    "print(result)"
   ]
  }
 ],
 "metadata": {
  "kernelspec": {
   "display_name": "Python 3",
   "language": "python",
   "name": "python3"
  },
  "language_info": {
   "codemirror_mode": {
    "name": "ipython",
    "version": 3
   },
   "file_extension": ".py",
   "mimetype": "text/x-python",
   "name": "python",
   "nbconvert_exporter": "python",
   "pygments_lexer": "ipython3",
   "version": "3.11.4"
  },
  "orig_nbformat": 4
 },
 "nbformat": 4,
 "nbformat_minor": 2
}
