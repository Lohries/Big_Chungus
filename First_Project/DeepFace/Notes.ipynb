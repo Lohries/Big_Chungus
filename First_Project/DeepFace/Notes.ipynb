{
 "cells": [
  {
   "cell_type": "markdown",
   "metadata": {},
   "source": [
    "**Brain First Project**"
   ]
  },
  {
   "cell_type": "markdown",
   "metadata": {},
   "source": [
    "**1°-Basics**"
   ]
  },
  {
   "cell_type": "markdown",
   "metadata": {},
   "source": [
    "***Imports and paths***"
   ]
  },
  {
   "cell_type": "code",
   "execution_count": 1,
   "metadata": {},
   "outputs": [
    {
     "name": "stdout",
     "output_type": "stream",
     "text": [
      "24-02-29 23:36:12 - Directory /Users/lohries/.deepface created\n",
      "24-02-29 23:36:12 - Directory /Users/lohries/.deepface/weights created\n"
     ]
    }
   ],
   "source": [
    "from deepface import  DeepFace"
   ]
  },
  {
   "cell_type": "code",
   "execution_count": 16,
   "metadata": {},
   "outputs": [],
   "source": [
    "img1 = '/Users/lohries/Desktop/Brain/First_Project/DeepFace/img/Celebrity1.jpeg'\n",
    "img2 = '/Users/lohries/Desktop/Brain/First_Project/DeepFace/img/Celebrity2.jpeg'"
   ]
  },
  {
   "cell_type": "markdown",
   "metadata": {},
   "source": [
    "***Using the model***"
   ]
  },
  {
   "cell_type": "code",
   "execution_count": 9,
   "metadata": {},
   "outputs": [
    {
     "name": "stdout",
     "output_type": "stream",
     "text": [
      "{'verified': False, 'distance': 0.8216463258362606, 'threshold': 0.68, 'model': 'VGG-Face', 'detector_backend': 'opencv', 'similarity_metric': 'cosine', 'facial_areas': {'img1': {'x': 181, 'y': 143, 'w': 406, 'h': 406, 'left_eye': (129, 166), 'right_eye': (276, 158)}, 'img2': {'x': 145, 'y': 126, 'w': 367, 'h': 367, 'left_eye': (137, 147), 'right_eye': (218, 289)}}, 'time': 0.96}\n"
     ]
    }
   ],
   "source": [
    "result = DeepFace.verify(img1, img2)\n",
    "print(result)"
   ]
  },
  {
   "cell_type": "code",
   "execution_count": 15,
   "metadata": {},
   "outputs": [
    {
     "name": "stdout",
     "output_type": "stream",
     "text": [
      "{'verified': False, 'distance': 1.2246195890145708, 'threshold': 0.4, 'model': 'Facenet', 'detector_backend': 'opencv', 'similarity_metric': 'cosine', 'facial_areas': {'img1': {'x': 181, 'y': 143, 'w': 406, 'h': 406, 'left_eye': (129, 166), 'right_eye': (276, 158)}, 'img2': {'x': 145, 'y': 126, 'w': 367, 'h': 367, 'left_eye': (137, 147), 'right_eye': (218, 289)}}, 'time': 0.33}\n"
     ]
    }
   ],
   "source": [
    "result = DeepFace.verify(img1, img2, model_name=\"Facenet\")\n",
    "print(result)"
   ]
  },
  {
   "cell_type": "code",
   "execution_count": 11,
   "metadata": {},
   "outputs": [
    {
     "name": "stdout",
     "output_type": "stream",
     "text": [
      "False\n"
     ]
    }
   ],
   "source": [
    "print(result[\"verified\"])"
   ]
  },
  {
   "cell_type": "markdown",
   "metadata": {},
   "source": [
    "*A partir do retorno (dict) acima, podemos crer que a imagem é falsa*"
   ]
  },
  {
   "cell_type": "markdown",
   "metadata": {},
   "source": [
    "*Além disso temos outros parâmetros que retornados, que ficam na ordem das similaridades até o local de desenho da \"mask\" nos rostos das iamgens*"
   ]
  },
  {
   "cell_type": "markdown",
   "metadata": {},
   "source": [
    "**1.1 Vizualizando melhor**"
   ]
  },
  {
   "cell_type": "code",
   "execution_count": 12,
   "metadata": {},
   "outputs": [],
   "source": [
    "import matplotlib.pyplot as plt "
   ]
  },
  {
   "cell_type": "code",
   "execution_count": null,
   "metadata": {},
   "outputs": [],
   "source": []
  }
 ],
 "metadata": {
  "kernelspec": {
   "display_name": "Python 3",
   "language": "python",
   "name": "python3"
  },
  "language_info": {
   "codemirror_mode": {
    "name": "ipython",
    "version": 3
   },
   "file_extension": ".py",
   "mimetype": "text/x-python",
   "name": "python",
   "nbconvert_exporter": "python",
   "pygments_lexer": "ipython3",
   "version": "3.11.4"
  },
  "orig_nbformat": 4
 },
 "nbformat": 4,
 "nbformat_minor": 2
}
