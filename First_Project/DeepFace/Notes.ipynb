{
 "cells": [
  {
   "cell_type": "markdown",
   "metadata": {},
   "source": [
    "**Brain First Project**"
   ]
  },
  {
   "cell_type": "markdown",
   "metadata": {},
   "source": [
    "**1°-Basics**"
   ]
  },
  {
   "cell_type": "code",
   "execution_count": 1,
   "metadata": {},
   "outputs": [
    {
     "name": "stdout",
     "output_type": "stream",
     "text": [
      "24-02-29 23:36:12 - Directory /Users/lohries/.deepface created\n",
      "24-02-29 23:36:12 - Directory /Users/lohries/.deepface/weights created\n"
     ]
    }
   ],
   "source": [
    "from deepface import  DeepFace"
   ]
  },
  {
   "cell_type": "code",
   "execution_count": 4,
   "metadata": {},
   "outputs": [],
   "source": [
    "img1 = '/Users/lohries/Desktop/Brain/First_Project/img/Indiana1.jpg'\n",
    "img2 = '/Users/lohries/Desktop/Brain/First_Project/img/Indiana2.jpg'"
   ]
  },
  {
   "cell_type": "code",
   "execution_count": 5,
   "metadata": {},
   "outputs": [
    {
     "ename": "ValueError",
     "evalue": "Exception while loading /Users/lohries/Desktop/Brain/First_Project/img/Indiana1.jpg",
     "output_type": "error",
     "traceback": [
      "\u001b[0;31m---------------------------------------------------------------------------\u001b[0m",
      "\u001b[0;31mValueError\u001b[0m                                Traceback (most recent call last)",
      "Cell \u001b[0;32mIn[5], line 1\u001b[0m\n\u001b[0;32m----> 1\u001b[0m result \u001b[39m=\u001b[39m DeepFace\u001b[39m.\u001b[39;49mverify(img1, img2)\n\u001b[1;32m      2\u001b[0m \u001b[39mprint\u001b[39m(result)\n",
      "File \u001b[0;32m/Library/Frameworks/Python.framework/Versions/3.11/lib/python3.11/site-packages/deepface/DeepFace.py:119\u001b[0m, in \u001b[0;36mverify\u001b[0;34m(img1_path, img2_path, model_name, detector_backend, distance_metric, enforce_detection, align, expand_percentage, normalization)\u001b[0m\n\u001b[1;32m     55\u001b[0m \u001b[39mdef\u001b[39;00m \u001b[39mverify\u001b[39m(\n\u001b[1;32m     56\u001b[0m     img1_path: Union[\u001b[39mstr\u001b[39m, np\u001b[39m.\u001b[39mndarray],\n\u001b[1;32m     57\u001b[0m     img2_path: Union[\u001b[39mstr\u001b[39m, np\u001b[39m.\u001b[39mndarray],\n\u001b[0;32m   (...)\u001b[0m\n\u001b[1;32m     64\u001b[0m     normalization: \u001b[39mstr\u001b[39m \u001b[39m=\u001b[39m \u001b[39m\"\u001b[39m\u001b[39mbase\u001b[39m\u001b[39m\"\u001b[39m,\n\u001b[1;32m     65\u001b[0m ) \u001b[39m-\u001b[39m\u001b[39m>\u001b[39m Dict[\u001b[39mstr\u001b[39m, Any]:\n\u001b[1;32m     66\u001b[0m \u001b[39m    \u001b[39m\u001b[39m\"\"\"\u001b[39;00m\n\u001b[1;32m     67\u001b[0m \u001b[39m    Verify if an image pair represents the same person or different persons.\u001b[39;00m\n\u001b[1;32m     68\u001b[0m \u001b[39m    Args:\u001b[39;00m\n\u001b[0;32m   (...)\u001b[0m\n\u001b[1;32m    116\u001b[0m \u001b[39m        - 'time' (float): Time taken for the verification process in seconds.\u001b[39;00m\n\u001b[1;32m    117\u001b[0m \u001b[39m    \"\"\"\u001b[39;00m\n\u001b[0;32m--> 119\u001b[0m     \u001b[39mreturn\u001b[39;00m verification\u001b[39m.\u001b[39;49mverify(\n\u001b[1;32m    120\u001b[0m         img1_path\u001b[39m=\u001b[39;49mimg1_path,\n\u001b[1;32m    121\u001b[0m         img2_path\u001b[39m=\u001b[39;49mimg2_path,\n\u001b[1;32m    122\u001b[0m         model_name\u001b[39m=\u001b[39;49mmodel_name,\n\u001b[1;32m    123\u001b[0m         detector_backend\u001b[39m=\u001b[39;49mdetector_backend,\n\u001b[1;32m    124\u001b[0m         distance_metric\u001b[39m=\u001b[39;49mdistance_metric,\n\u001b[1;32m    125\u001b[0m         enforce_detection\u001b[39m=\u001b[39;49menforce_detection,\n\u001b[1;32m    126\u001b[0m         align\u001b[39m=\u001b[39;49malign,\n\u001b[1;32m    127\u001b[0m         expand_percentage\u001b[39m=\u001b[39;49mexpand_percentage,\n\u001b[1;32m    128\u001b[0m         normalization\u001b[39m=\u001b[39;49mnormalization,\n\u001b[1;32m    129\u001b[0m     )\n",
      "File \u001b[0;32m/Library/Frameworks/Python.framework/Versions/3.11/lib/python3.11/site-packages/deepface/modules/verification.py:89\u001b[0m, in \u001b[0;36mverify\u001b[0;34m(img1_path, img2_path, model_name, detector_backend, distance_metric, enforce_detection, align, expand_percentage, normalization)\u001b[0m\n\u001b[1;32m     86\u001b[0m target_size \u001b[39m=\u001b[39m model\u001b[39m.\u001b[39minput_shape\n\u001b[1;32m     88\u001b[0m \u001b[39m# img pairs might have many faces\u001b[39;00m\n\u001b[0;32m---> 89\u001b[0m img1_objs \u001b[39m=\u001b[39m detection\u001b[39m.\u001b[39;49mextract_faces(\n\u001b[1;32m     90\u001b[0m     img_path\u001b[39m=\u001b[39;49mimg1_path,\n\u001b[1;32m     91\u001b[0m     target_size\u001b[39m=\u001b[39;49mtarget_size,\n\u001b[1;32m     92\u001b[0m     detector_backend\u001b[39m=\u001b[39;49mdetector_backend,\n\u001b[1;32m     93\u001b[0m     grayscale\u001b[39m=\u001b[39;49m\u001b[39mFalse\u001b[39;49;00m,\n\u001b[1;32m     94\u001b[0m     enforce_detection\u001b[39m=\u001b[39;49menforce_detection,\n\u001b[1;32m     95\u001b[0m     align\u001b[39m=\u001b[39;49malign,\n\u001b[1;32m     96\u001b[0m     expand_percentage\u001b[39m=\u001b[39;49mexpand_percentage,\n\u001b[1;32m     97\u001b[0m )\n\u001b[1;32m     99\u001b[0m img2_objs \u001b[39m=\u001b[39m detection\u001b[39m.\u001b[39mextract_faces(\n\u001b[1;32m    100\u001b[0m     img_path\u001b[39m=\u001b[39mimg2_path,\n\u001b[1;32m    101\u001b[0m     target_size\u001b[39m=\u001b[39mtarget_size,\n\u001b[0;32m   (...)\u001b[0m\n\u001b[1;32m    106\u001b[0m     expand_percentage\u001b[39m=\u001b[39mexpand_percentage,\n\u001b[1;32m    107\u001b[0m )\n\u001b[1;32m    108\u001b[0m \u001b[39m# --------------------------------\u001b[39;00m\n",
      "File \u001b[0;32m/Library/Frameworks/Python.framework/Versions/3.11/lib/python3.11/site-packages/deepface/modules/detection.py:82\u001b[0m, in \u001b[0;36mextract_faces\u001b[0;34m(img_path, target_size, detector_backend, enforce_detection, align, expand_percentage, grayscale, human_readable)\u001b[0m\n\u001b[1;32m     79\u001b[0m img, img_name \u001b[39m=\u001b[39m preprocessing\u001b[39m.\u001b[39mload_image(img_path)\n\u001b[1;32m     81\u001b[0m \u001b[39mif\u001b[39;00m img \u001b[39mis\u001b[39;00m \u001b[39mNone\u001b[39;00m:\n\u001b[0;32m---> 82\u001b[0m     \u001b[39mraise\u001b[39;00m \u001b[39mValueError\u001b[39;00m(\u001b[39mf\u001b[39m\u001b[39m\"\u001b[39m\u001b[39mException while loading \u001b[39m\u001b[39m{\u001b[39;00mimg_name\u001b[39m}\u001b[39;00m\u001b[39m\"\u001b[39m)\n\u001b[1;32m     84\u001b[0m base_region \u001b[39m=\u001b[39m FacialAreaRegion(x\u001b[39m=\u001b[39m\u001b[39m0\u001b[39m, y\u001b[39m=\u001b[39m\u001b[39m0\u001b[39m, w\u001b[39m=\u001b[39mimg\u001b[39m.\u001b[39mshape[\u001b[39m1\u001b[39m], h\u001b[39m=\u001b[39mimg\u001b[39m.\u001b[39mshape[\u001b[39m0\u001b[39m], confidence\u001b[39m=\u001b[39m\u001b[39m0\u001b[39m)\n\u001b[1;32m     86\u001b[0m \u001b[39mif\u001b[39;00m detector_backend \u001b[39m==\u001b[39m \u001b[39m\"\u001b[39m\u001b[39mskip\u001b[39m\u001b[39m\"\u001b[39m:\n",
      "\u001b[0;31mValueError\u001b[0m: Exception while loading /Users/lohries/Desktop/Brain/First_Project/img/Indiana1.jpg"
     ]
    }
   ],
   "source": [
    "result = DeepFace.verify(img1, img2)\n",
    "print(result)"
   ]
  }
 ],
 "metadata": {
  "kernelspec": {
   "display_name": "Python 3",
   "language": "python",
   "name": "python3"
  },
  "language_info": {
   "codemirror_mode": {
    "name": "ipython",
    "version": 3
   },
   "file_extension": ".py",
   "mimetype": "text/x-python",
   "name": "python",
   "nbconvert_exporter": "python",
   "pygments_lexer": "ipython3",
   "version": "3.11.4"
  },
  "orig_nbformat": 4
 },
 "nbformat": 4,
 "nbformat_minor": 2
}
